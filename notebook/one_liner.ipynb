{
 "cells": [
  {
   "cell_type": "code",
   "execution_count": 1,
   "id": "389f7f75",
   "metadata": {},
   "outputs": [],
   "source": [
    "from sklearn.datasets import load_wine, fetch_openml\n",
    "import pandas as pd\n",
    "import numpy as np\n",
    "from sklearn.preprocessing import StandardScaler, MinMaxScaler, OneHotEncoder, KBinsDiscretizer, PolynomialFeatures\n",
    "from sklearn.feature_selection import VarianceThreshold\n",
    "from sklearn.decomposition import PCA\n",
    "\n",
    "# Dataset loading into Pandas dataframes\n",
    "wine = load_wine(as_frame=True)\n",
    "df_wine = wine.frame\n",
    "\n",
    "boston = fetch_openml(name=\"boston\", version=1, as_frame=True)\n",
    "df_boston = boston.frame"
   ]
  },
  {
   "cell_type": "markdown",
   "id": "de21028c",
   "metadata": {},
   "source": [
    "We have loaded some sample data to experiment. Below shows a one-line approach to standardize the data (the numerical features)"
   ]
  },
  {
   "cell_type": "code",
   "execution_count": 2,
   "id": "c08ef86b",
   "metadata": {},
   "outputs": [],
   "source": [
    "df_wine_std = pd.DataFrame(StandardScaler().fit_transform(df_wine.drop('target', axis=1)), columns=df_wine.columns[:-1])"
   ]
  },
  {
   "cell_type": "markdown",
   "id": "e6b4df73",
   "metadata": {},
   "source": [
    "Here's another one-line approach for min-max scaling"
   ]
  },
  {
   "cell_type": "code",
   "execution_count": 3,
   "id": "dc60c028",
   "metadata": {},
   "outputs": [],
   "source": [
    "df_boston_scaled = pd.DataFrame(MinMaxScaler().fit_transform(df_boston.drop('MEDV', axis=1)), columns=df_boston.columns[:-1])"
   ]
  },
  {
   "cell_type": "markdown",
   "id": "43eda684",
   "metadata": {},
   "source": [
    "How about adding polynomial features to the dataset? This can be done in a single line as well. "
   ]
  },
  {
   "cell_type": "code",
   "execution_count": 4,
   "id": "690dcca6",
   "metadata": {},
   "outputs": [],
   "source": [
    "df_interactions = pd.DataFrame(PolynomialFeatures(degree=2, include_bias=False).fit_transform(df_wine[['alcohol', 'malic_acid']]))"
   ]
  },
  {
   "cell_type": "markdown",
   "id": "f6280e79",
   "metadata": {},
   "source": [
    "How about one-hot encoding categorical features in the boston dataset?"
   ]
  },
  {
   "cell_type": "code",
   "execution_count": 5,
   "id": "e184a18a",
   "metadata": {},
   "outputs": [],
   "source": [
    "df_boston_ohe = pd.get_dummies(df_boston.astype({'CHAS': 'category'}), columns=['CHAS'])"
   ]
  },
  {
   "cell_type": "markdown",
   "id": "eb05d0ba",
   "metadata": {},
   "source": [
    "How about discretizing continuous features?"
   ]
  },
  {
   "cell_type": "code",
   "execution_count": 6,
   "id": "2004f3e8",
   "metadata": {},
   "outputs": [],
   "source": [
    "df_wine['alcohol_bin'] = pd.qcut(df_wine['alcohol'], q=4, labels=False)"
   ]
  },
  {
   "cell_type": "markdown",
   "id": "fc04f634",
   "metadata": {},
   "source": [
    "If one of your numerical features is right-skewed or positively skewed, that is, it visually exhibits a long tail to the right-hand side due to a few unduly larger values than the rest, a logarithmic transformation helps scale them into a better form for further analyses"
   ]
  },
  {
   "cell_type": "code",
   "execution_count": 7,
   "id": "191eafaf",
   "metadata": {},
   "outputs": [],
   "source": [
    "df_wine['log_malic'] = np.log1p(df_wine['malic_acid'])"
   ]
  },
  {
   "cell_type": "markdown",
   "id": "1c8747b1",
   "metadata": {},
   "source": [
    "Creating a ratio between two features"
   ]
  },
  {
   "cell_type": "code",
   "execution_count": 8,
   "id": "6e8e6666",
   "metadata": {},
   "outputs": [],
   "source": [
    "df_wine['alcohol_malic_ratio'] = df_wine['alcohol'] / df_wine['malic_acid']"
   ]
  },
  {
   "cell_type": "markdown",
   "id": "85d91e3c",
   "metadata": {},
   "source": [
    "Removing low variance features"
   ]
  },
  {
   "cell_type": "code",
   "execution_count": 9,
   "id": "a3beb3be",
   "metadata": {},
   "outputs": [],
   "source": [
    "df_boston_high_var = pd.DataFrame(VarianceThreshold(threshold=0.1).fit_transform(df_boston.drop('MEDV', axis=1)))"
   ]
  },
  {
   "cell_type": "markdown",
   "id": "8dda9a76",
   "metadata": {},
   "source": [
    "Multiplicative interaction between two features"
   ]
  },
  {
   "cell_type": "code",
   "execution_count": 10,
   "id": "b3b3f1b1",
   "metadata": {},
   "outputs": [],
   "source": [
    "df_wine['wine_quality'] = df_wine['alcohol'] * df_wine['color_intensity']"
   ]
  },
  {
   "cell_type": "markdown",
   "id": "31d61c4b",
   "metadata": {},
   "source": [
    "Keeping track of outliers"
   ]
  },
  {
   "cell_type": "code",
   "execution_count": 11,
   "id": "66fc9bc8",
   "metadata": {},
   "outputs": [],
   "source": [
    "df_boston['tax_outlier'] = ((df_boston['TAX'] < df_boston['TAX'].quantile(0.25) - 1.5 * (df_boston['TAX'].quantile(0.75) - df_boston['TAX'].quantile(0.25))) | (df_boston['TAX'] > df_boston['TAX'].quantile(0.75) + 1.5 * (df_boston['TAX'].quantile(0.75) - df_boston['TAX'].quantile(0.25)))).astype(int)"
   ]
  }
 ],
 "metadata": {
  "kernelspec": {
   "display_name": "Python 3",
   "language": "python",
   "name": "python3"
  },
  "language_info": {
   "codemirror_mode": {
    "name": "ipython",
    "version": 3
   },
   "file_extension": ".py",
   "mimetype": "text/x-python",
   "name": "python",
   "nbconvert_exporter": "python",
   "pygments_lexer": "ipython3",
   "version": "3.12.7"
  }
 },
 "nbformat": 4,
 "nbformat_minor": 5
}
