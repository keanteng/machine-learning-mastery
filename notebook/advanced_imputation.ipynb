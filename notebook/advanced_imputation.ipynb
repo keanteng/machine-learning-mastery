{
 "cells": [
  {
   "cell_type": "code",
   "execution_count": 10,
   "id": "85b2d847",
   "metadata": {},
   "outputs": [],
   "source": [
    "import warnings\n",
    "\n",
    "# turn off warnings\n",
    "warnings.filterwarnings(\"ignore\")"
   ]
  },
  {
   "cell_type": "markdown",
   "id": "1270c672",
   "metadata": {},
   "source": [
    "Let's load a sample data with some missing values."
   ]
  },
  {
   "cell_type": "code",
   "execution_count": 7,
   "id": "1d9e9069",
   "metadata": {},
   "outputs": [
    {
     "name": "stdout",
     "output_type": "stream",
     "text": [
      "Loaded dataset shape: (1000, 5)\n",
      "Missing values per column:\n",
      "age                116\n",
      "income             149\n",
      "education_years     91\n",
      "experience         127\n",
      "credit_score         0\n",
      "dtype: int64\n"
     ]
    }
   ],
   "source": [
    "import pandas as pd\n",
    "\n",
    "url = 'https://raw.githubusercontent.com/gakudo-ai/open-datasets/refs/heads/main/employees_dataset_with_missing.csv'\n",
    "df = pd.read_csv(url)\n",
    "print(f\"Loaded dataset shape: {df.shape}\")\n",
    "print(f\"Missing values per column:\\n{df.isnull().sum()}\")"
   ]
  },
  {
   "cell_type": "markdown",
   "id": "b65fc028",
   "metadata": {},
   "source": [
    "We can see that there are missing values from the data"
   ]
  },
  {
   "cell_type": "code",
   "execution_count": 8,
   "id": "c18834ef",
   "metadata": {},
   "outputs": [
    {
     "name": "stdout",
     "output_type": "stream",
     "text": [
      "\n",
      "1. Iterative Imputation (MICE):\n",
      "Full dataset shape: (1000, 5)\n",
      "Number of missing values: 0\n"
     ]
    }
   ],
   "source": [
    "from sklearn.experimental import enable_iterative_imputer\n",
    "from sklearn.impute import IterativeImputer\n",
    "from sklearn.ensemble import RandomForestRegressor\n",
    "\n",
    "iterative_imputer = IterativeImputer(random_state=42, max_iter=10)\n",
    "df_iterative = pd.DataFrame(\n",
    "    iterative_imputer.fit_transform(df),\n",
    "    columns=df.columns,\n",
    "    index=df.index\n",
    ")\n",
    "\n",
    "print(\"\\n1. Iterative Imputation (MICE):\")\n",
    "print(f\"Full dataset shape: {df_iterative.shape}\")\n",
    "print(f\"Number of missing values: {df_iterative.isnull().sum().sum()}\")"
   ]
  },
  {
   "cell_type": "markdown",
   "id": "e5392d70",
   "metadata": {},
   "source": [
    "The iterative method uses Multiple Imputation by Chained Equations that allows various estimators to be used. The default model is BayesianRidge and we will use the Random Forest approach below."
   ]
  },
  {
   "cell_type": "code",
   "execution_count": 11,
   "id": "28be0870",
   "metadata": {},
   "outputs": [
    {
     "data": {
      "text/html": [
       "<div>\n",
       "<style scoped>\n",
       "    .dataframe tbody tr th:only-of-type {\n",
       "        vertical-align: middle;\n",
       "    }\n",
       "\n",
       "    .dataframe tbody tr th {\n",
       "        vertical-align: top;\n",
       "    }\n",
       "\n",
       "    .dataframe thead th {\n",
       "        text-align: right;\n",
       "    }\n",
       "</style>\n",
       "<table border=\"1\" class=\"dataframe\">\n",
       "  <thead>\n",
       "    <tr style=\"text-align: right;\">\n",
       "      <th></th>\n",
       "      <th>age</th>\n",
       "      <th>income</th>\n",
       "      <th>education_years</th>\n",
       "      <th>experience</th>\n",
       "      <th>credit_score</th>\n",
       "    </tr>\n",
       "  </thead>\n",
       "  <tbody>\n",
       "    <tr>\n",
       "      <th>0</th>\n",
       "      <td>36.805366</td>\n",
       "      <td>70990.331549</td>\n",
       "      <td>11.974465</td>\n",
       "      <td>0.460962</td>\n",
       "      <td>563.650640</td>\n",
       "    </tr>\n",
       "    <tr>\n",
       "      <th>1</th>\n",
       "      <td>33.617357</td>\n",
       "      <td>63869.505244</td>\n",
       "      <td>13.566444</td>\n",
       "      <td>5.698075</td>\n",
       "      <td>646.879651</td>\n",
       "    </tr>\n",
       "    <tr>\n",
       "      <th>2</th>\n",
       "      <td>41.476885</td>\n",
       "      <td>50894.455549</td>\n",
       "      <td>11.622740</td>\n",
       "      <td>7.931972</td>\n",
       "      <td>651.801687</td>\n",
       "    </tr>\n",
       "    <tr>\n",
       "      <th>3</th>\n",
       "      <td>50.230299</td>\n",
       "      <td>40295.948334</td>\n",
       "      <td>13.076115</td>\n",
       "      <td>19.438438</td>\n",
       "      <td>697.263035</td>\n",
       "    </tr>\n",
       "    <tr>\n",
       "      <th>4</th>\n",
       "      <td>32.658466</td>\n",
       "      <td>60473.349704</td>\n",
       "      <td>8.319156</td>\n",
       "      <td>12.782766</td>\n",
       "      <td>513.314164</td>\n",
       "    </tr>\n",
       "  </tbody>\n",
       "</table>\n",
       "</div>"
      ],
      "text/plain": [
       "         age        income  education_years  experience  credit_score\n",
       "0  36.805366  70990.331549        11.974465    0.460962    563.650640\n",
       "1  33.617357  63869.505244        13.566444    5.698075    646.879651\n",
       "2  41.476885  50894.455549        11.622740    7.931972    651.801687\n",
       "3  50.230299  40295.948334        13.076115   19.438438    697.263035\n",
       "4  32.658466  60473.349704         8.319156   12.782766    513.314164"
      ]
     },
     "execution_count": 11,
     "metadata": {},
     "output_type": "execute_result"
    }
   ],
   "source": [
    "rf_iterative_imputer = IterativeImputer(\n",
    "    estimator=RandomForestRegressor(n_estimators=10, random_state=42),\n",
    "    random_state=42,\n",
    "    max_iter=5\n",
    ")\n",
    "df_rf_iterative = pd.DataFrame(\n",
    "    rf_iterative_imputer.fit_transform(df),\n",
    "    columns=df.columns,\n",
    "    index=df.index\n",
    ")\n",
    "\n",
    "df_rf_iterative.head()"
   ]
  },
  {
   "cell_type": "markdown",
   "id": "8ac7e3dc",
   "metadata": {},
   "source": [
    "Of course, we can also use KNN imputation by setting the number of neighboring instances."
   ]
  },
  {
   "cell_type": "code",
   "execution_count": 12,
   "id": "061d03b1",
   "metadata": {},
   "outputs": [
    {
     "name": "stdout",
     "output_type": "stream",
     "text": [
      "\n",
      "2. KNN Imputation:\n",
      "Using 5 nearest neighbors\n",
      "Remaining missing values: 0\n"
     ]
    }
   ],
   "source": [
    "from sklearn.impute import KNNImputer\n",
    "\n",
    "knn_imputer = KNNImputer(n_neighbors=5, weights='distance')\n",
    "df_knn = pd.DataFrame(\n",
    "    knn_imputer.fit_transform(df),\n",
    "    columns=df.columns,\n",
    "    index=df.index\n",
    ")\n",
    "\n",
    "print(\"\\n2. KNN Imputation:\")\n",
    "print(f\"Using {knn_imputer.n_neighbors} nearest neighbors\")\n",
    "print(f\"Remaining missing values: {df_knn.isnull().sum().sum()}\")"
   ]
  },
  {
   "cell_type": "markdown",
   "id": "37647fd1",
   "metadata": {},
   "source": [
    "Now let's compare the performance of the different imputation methods and see how they affect the model's performance."
   ]
  },
  {
   "cell_type": "code",
   "execution_count": 13,
   "id": "4f585e83",
   "metadata": {},
   "outputs": [
    {
     "name": "stdout",
     "output_type": "stream",
     "text": [
      "\n",
      "3. Imputed Dataset Versions based on Different Estimators:\n",
      "bayesian_ridge: Mean income = $51056.16\n",
      "extra_trees: Mean income = $50992.66\n",
      "rf_regressor: Mean income = $50957.85\n"
     ]
    }
   ],
   "source": [
    "from sklearn.linear_model import BayesianRidge\n",
    "from sklearn.ensemble import ExtraTreesRegressor, RandomForestRegressor\n",
    "\n",
    "imputers = {\n",
    "    'bayesian_ridge': IterativeImputer(estimator=BayesianRidge(), random_state=42),\n",
    "    'extra_trees': IterativeImputer(estimator=ExtraTreesRegressor(n_estimators=10, random_state=42), random_state=42),\n",
    "    'rf_regressor': IterativeImputer(estimator=RandomForestRegressor(n_estimators=10, random_state=42), random_state=42)\n",
    "}\n",
    "\n",
    "imputed_datasets = {}\n",
    "for name, imputer in imputers.items():\n",
    "    imputed_datasets[name] = pd.DataFrame(\n",
    "        imputer.fit_transform(df), \n",
    "        columns=df.columns,\n",
    "        index=df.index\n",
    "    )\n",
    "\n",
    "print(\"\\n3. Imputed Dataset Versions based on Different Estimators:\")\n",
    "for name, dataset in imputed_datasets.items():\n",
    "    print(f\"{name}: Mean income = ${dataset['income'].mean():.2f}\")"
   ]
  }
 ],
 "metadata": {
  "kernelspec": {
   "display_name": "Python 3",
   "language": "python",
   "name": "python3"
  },
  "language_info": {
   "codemirror_mode": {
    "name": "ipython",
    "version": 3
   },
   "file_extension": ".py",
   "mimetype": "text/x-python",
   "name": "python",
   "nbconvert_exporter": "python",
   "pygments_lexer": "ipython3",
   "version": "3.12.7"
  }
 },
 "nbformat": 4,
 "nbformat_minor": 5
}
